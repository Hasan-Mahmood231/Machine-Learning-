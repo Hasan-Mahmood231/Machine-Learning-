{
 "cells": [
  {
   "cell_type": "markdown",
   "id": "4968daaf",
   "metadata": {},
   "source": [
    "# 🍏🥭 K-Nearest Neighbors (KNN) Classifier  \n",
    "\n",
    "## 📌 Overview  \n",
    "- **KNN (K-Nearest Neighbors)** is a **supervised learning algorithm** used for **classification and regression**.  \n",
    "- It classifies a new data point based on the **majority class of its K nearest neighbors** in the feature space.  \n",
    "\n",
    "---\n",
    "\n",
    "## ⚙️ How it works  \n",
    "1. Choose a value for **K** (number of neighbors).  \n",
    "2. Measure the distance (e.g., Euclidean) between the new point and all training points.  \n",
    "3. Select the **K nearest points**.  \n",
    "4. Assign the class label that is most common among those neighbors.  \n",
    "\n",
    "---\n",
    "\n",
    "## 🍏🥭 Example (Apple vs Mango)  \n",
    "- Features: **Weight** & **Texture**  \n",
    "- Apples → lighter, smooth  \n",
    "- Mangoes → heavier, rough  \n",
    "- KNN predicts whether the fruit is an **Apple or Mango** based on the nearest examples.  \n",
    "\n",
    "---\n",
    "\n",
    "## ✅ Key Points  \n",
    "- Simple and easy to understand.  \n",
    "- Works well with small datasets.  \n",
    "- Sensitive to scale (features should be normalized).  \n",
    "- Best when decision boundary is not strictly linear.  \n"
   ]
  },
  {
   "cell_type": "code",
   "execution_count": 1,
   "id": "5baa831e",
   "metadata": {},
   "outputs": [],
   "source": [
    "# Features: [Weight (grams), Texture (0 = Smooth, 1 = Rough)]\n",
    "x = [\n",
    "    [150, 0],  # Apple\n",
    "    [170, 0],  # Apple\n",
    "    [140, 0],  # Apple\n",
    "    [130, 0],  # Apple\n",
    "    [180, 1],  # Mango\n",
    "    [200, 1],  # Mango\n",
    "    [210, 1],  # Mango\n",
    "    [190, 1]   # Mango\n",
    "]\n",
    "\n",
    "# Labels: 0 = Apple, 1 = Mango\n",
    "y = [0, 0, 0, 0, 1, 1, 1, 1]\n"
   ]
  },
  {
   "cell_type": "code",
   "execution_count": 3,
   "id": "3fd2d8b7",
   "metadata": {},
   "outputs": [
    {
     "name": "stdout",
     "output_type": "stream",
     "text": [
      "Like your fruit is Mango.\n"
     ]
    }
   ],
   "source": [
    "from sklearn.neighbors import KNeighborsClassifier\n",
    "\n",
    "model = KNeighborsClassifier(n_neighbors=3)\n",
    "model.fit(x,y)\n",
    "weight = int(input(\"enter the weight of fruit :\"))\n",
    "texture = int(input(\"enter (0 = Smooth, 1 = Rough) :\"))\n",
    "\n",
    "result = model.predict([[weight,texture]])[0]\n",
    "if result == 0:\n",
    "    print(\"Like your fruit is Apple.\")\n",
    "else:\n",
    "    print(\"Like your fruit is Mango.\")"
   ]
  },
  {
   "cell_type": "code",
   "execution_count": null,
   "id": "431c3aa2",
   "metadata": {},
   "outputs": [],
   "source": []
  },
  {
   "cell_type": "code",
   "execution_count": null,
   "id": "66b1cfda",
   "metadata": {},
   "outputs": [],
   "source": []
  }
 ],
 "metadata": {
  "kernelspec": {
   "display_name": "base",
   "language": "python",
   "name": "python3"
  },
  "language_info": {
   "codemirror_mode": {
    "name": "ipython",
    "version": 3
   },
   "file_extension": ".py",
   "mimetype": "text/x-python",
   "name": "python",
   "nbconvert_exporter": "python",
   "pygments_lexer": "ipython3",
   "version": "3.13.5"
  }
 },
 "nbformat": 4,
 "nbformat_minor": 5
}
