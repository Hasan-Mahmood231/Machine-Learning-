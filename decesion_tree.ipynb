{
 "cells": [
  {
   "cell_type": "code",
   "execution_count": 2,
   "id": "3a193559",
   "metadata": {},
   "outputs": [],
   "source": [
    "# Features: [Weight (grams), Texture (0 = Smooth, 1 = Rough)]\n",
    "x = [\n",
    "    [150, 0],  # Apple\n",
    "    [170, 0],  # Apple\n",
    "    [140, 0],  # Apple\n",
    "    [130, 0],  # Apple\n",
    "    [180, 1],  # Mango\n",
    "    [200, 1],  # Mango\n",
    "    [210, 1],  # Mango\n",
    "    [190, 1]   # Mango\n",
    "]\n",
    "\n",
    "# Labels: 0 = Apple, 1 = Mango\n",
    "y = [0, 0, 0, 0, 1, 1, 1, 1]\n"
   ]
  },
  {
   "cell_type": "code",
   "execution_count": null,
   "id": "b170c2e7",
   "metadata": {},
   "outputs": [
    {
     "name": "stdout",
     "output_type": "stream",
     "text": [
      "Like your fruit is Apple.\n"
     ]
    }
   ],
   "source": [
    "from sklearn.tree import DecisionTreeClassifier\n",
    "\n",
    "model = DecisionTreeClassifier()\n",
    "model.fit(x,y)\n",
    "weight = int(input(\"enter the weight of fruit :\"))\n",
    "texture = int(input(\"enter (0 = Smooth, 1 = Rough) :\"))\n",
    "\n",
    "result = model.predict([[weight,texture]])[0]\n",
    "if result == 0:\n",
    "    print(\"Like your fruit is Apple.\")\n",
    "else:\n",
    "    print(\"Like your fruit is Mango.\")\n",
    "\n",
    "\n",
    "from sklearn.metrics import precision_score,f1_score\n",
    "print(f\"the precesion score of our model is {precision_score(x,y)}\")"
   ]
  },
  {
   "cell_type": "code",
   "execution_count": 8,
   "id": "2c22b2c0",
   "metadata": {},
   "outputs": [
    {
     "name": "stdout",
     "output_type": "stream",
     "text": [
      "Accuracy: 1.0\n",
      "Precision: 1.0\n",
      "F1 Score: 1.0\n"
     ]
    }
   ],
   "source": [
    "import pandas as pd\n",
    "\n",
    "# Features: weight, texture\n",
    "x = [[150, 0], [170, 0], [140, 1], [200, 1]]   # 0=smooth, 1=rough\n",
    "y = [0, 0, 1, 1]  # 0=Apple, 1=Mango\n",
    "from sklearn.tree import DecisionTreeClassifier\n",
    "from sklearn.metrics import accuracy_score, precision_score, f1_score\n",
    "\n",
    "model = DecisionTreeClassifier()\n",
    "model.fit(x, y)\n",
    "\n",
    "y_pred = model.predict(x)   # predictions on training data\n",
    "\n",
    "print(\"Accuracy:\", accuracy_score(y, y_pred))\n",
    "print(\"Precision:\", precision_score(y, y_pred))\n",
    "print(\"F1 Score:\", f1_score(y, y_pred))\n"
   ]
  },
  {
   "cell_type": "code",
   "execution_count": 10,
   "id": "724ce46a",
   "metadata": {},
   "outputs": [
    {
     "name": "stdout",
     "output_type": "stream",
     "text": [
      "the accury of the model is 0.75%\n"
     ]
    }
   ],
   "source": [
    "y_true_s = [1,1,1,0,0,0,1]\n",
    "y_pred_s = [1,0,1,0,0,1,1]\n",
    "\n",
    "from sklearn.metrics import accuracy_score,precision_score,f1_score\n",
    "\n",
    "print(f\"the accury of the model is {precision_score(y_true_s,y_pred_s)}%\")"
   ]
  },
  {
   "cell_type": "code",
   "execution_count": null,
   "id": "b062c4b0",
   "metadata": {},
   "outputs": [],
   "source": [
    "from sklearn.preprocessing import StandardScaler\n",
    "scalar = StandardScaler()\n",
    "scalar.fit(x_train)\n",
    "x_train_scaled = scaler.transform(x_train)\n",
    "x_test_scaled = scalar.transform(x_test)\n"
   ]
  }
 ],
 "metadata": {
  "kernelspec": {
   "display_name": "base",
   "language": "python",
   "name": "python3"
  },
  "language_info": {
   "codemirror_mode": {
    "name": "ipython",
    "version": 3
   },
   "file_extension": ".py",
   "mimetype": "text/x-python",
   "name": "python",
   "nbconvert_exporter": "python",
   "pygments_lexer": "ipython3",
   "version": "3.13.5"
  }
 },
 "nbformat": 4,
 "nbformat_minor": 5
}
