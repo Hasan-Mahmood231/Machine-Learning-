{
 "cells": [
  {
   "cell_type": "markdown",
   "id": "605fb015",
   "metadata": {},
   "source": [
    "#  Orientation of Regression & Classification in Machine Learning  \n",
    "\n",
    "```mermaid\n",
    "graph TD\n",
    "    A[Machine Learning] --> B[Supervised Learning]\n",
    "    A --> C[Unsupervised Learning]\n",
    "    A --> D[Reinforcement Learning]\n",
    "\n",
    "    B --> E[Regression]\n",
    "    B --> F[Classification]\n",
    "\n",
    "    C --> G[Clustering]\n",
    "    C --> H[Dimensionality Reduction]\n",
    "\n",
    "    D --> I[Agent learns via Rewards/Penalties]\n"
   ]
  },
  {
   "cell_type": "markdown",
   "id": "fde3ef00",
   "metadata": {},
   "source": [
    "<!-- Machine Learning\n",
    "│\n",
    "├── Supervised Learning\n",
    "│   ├── Regression (Numbers)\n",
    "│   └── Classification (Categories)\n",
    "│\n",
    "├── Unsupervised Learning\n",
    "│   ├── Clustering\n",
    "│   └── Dimensionality Reduction\n",
    "│\n",
    "└── Reinforcement Learning -->\n"
   ]
  },
  {
   "cell_type": "code",
   "execution_count": 2,
   "id": "404ed8b7",
   "metadata": {},
   "outputs": [],
   "source": [
    "import pandas as pd\n",
    "import numpy as np\n",
    "import matplotlib.pyplot as plt\n",
    "import seaborn as sns\n",
    "from sklearn.linear_model import LinearRegression"
   ]
  },
  {
   "cell_type": "code",
   "execution_count": 6,
   "id": "754b80a3",
   "metadata": {},
   "outputs": [
    {
     "name": "stdout",
     "output_type": "stream",
     "text": [
      "Based on your 8 hr study you may score around [82.81818182]\n"
     ]
    }
   ],
   "source": [
    "horse_study = [[1], [2], [3], [4], [5], [6], [7], [8], [9], [10]]\n",
    "marks = [20, 35, 50, 55, 65, 70, 75, 80, 90, 95]\n",
    "\n",
    "x = horse_study\n",
    "y = marks\n",
    "#make the obj of lineragrg\n",
    "model = LinearRegression()\n",
    "model.fit(x,y)\n",
    "\n",
    "study_hrs = int(input(\"inter the hourse you study :\"))\n",
    "exp_marks = model.predict([[study_hrs]])\n",
    "\n",
    "print(f\"Based on your {study_hrs} hr study you may score around {exp_marks}\")\n"
   ]
  },
  {
   "cell_type": "code",
   "execution_count": 13,
   "id": "dc915a68",
   "metadata": {},
   "outputs": [
    {
     "name": "stdout",
     "output_type": "stream",
     "text": [
      "Baed on you study 2 your well be -FAILED-\n"
     ]
    }
   ],
   "source": [
    "from sklearn.linear_model import LogisticRegression\n",
    "\n",
    "horse_study_logistic = [[1], [2], [3], [4], [5], [6], [7], [8], [9], [10]]\n",
    "marks_logistic = [0, 0, 1, 1, 1, 1, 1, 1, 1, 1]\n",
    "x = horse_study_logistic\n",
    "y = marks_logistic\n",
    "model_logistic = LogisticRegression()\n",
    "\n",
    "model_logistic.fit(x,y)\n",
    "study_hrs_logistic = int(input(\"inter the hourse you study :\"))\n",
    "predected_marks = model_logistic.predict([[study_hrs_logistic]])[0]\n",
    "\n",
    "if predected_marks == 0:\n",
    "    print(f\"Baed on you study {study_hrs_logistic} your well be -FAILED-\")\n",
    "else:\n",
    "    print(f\"Baed on you study {study_hrs_logistic} your well be -PASSED-\")\n"
   ]
  },
  {
   "cell_type": "code",
   "execution_count": null,
   "id": "31ed8bba",
   "metadata": {},
   "outputs": [],
   "source": []
  }
 ],
 "metadata": {
  "kernelspec": {
   "display_name": "base",
   "language": "python",
   "name": "python3"
  },
  "language_info": {
   "codemirror_mode": {
    "name": "ipython",
    "version": 3
   },
   "file_extension": ".py",
   "mimetype": "text/x-python",
   "name": "python",
   "nbconvert_exporter": "python",
   "pygments_lexer": "ipython3",
   "version": "3.13.5"
  }
 },
 "nbformat": 4,
 "nbformat_minor": 5
}
